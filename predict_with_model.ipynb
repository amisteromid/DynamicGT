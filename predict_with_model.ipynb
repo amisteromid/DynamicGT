{
 "cells": [
  {
   "cell_type": "code",
   "execution_count": null,
   "id": "c83bddf1-c62c-47b8-ab4d-eacc882520e2",
   "metadata": {},
   "outputs": [],
   "source": [
    "import numpy as np\n",
    "import torch as pt\n",
    "from glob import glob\n",
    "from tqdm import tqdm\n",
    "import random\n",
    "\n",
    "from data.utils.feature_extraction import extract_dynamic_features, encode_sequence, mean_coordinates, extract_topology\n",
    "from data.utils.PDB_processing import split_nmr_pdb, make_pdb, read_pdb, get_sasa_unbound, fill_nan_with_neighbors\n",
    "from data.utils.protein_chemistry import list_aa, std_elements\n",
    "\n",
    "from model.utils.data_handler import collate_batch_features\n",
    "from model.utils.model import Model\n",
    "from model.utils.configs import config_model, config_data, config_runtime\n",
    "from model.utils.for_visualization import p_to_bfactor"
   ]
  },
  {
   "cell_type": "code",
   "execution_count": null,
   "id": "b73a1ce3-f6a9-4c8a-8d60-9d5a40b96b21",
   "metadata": {},
   "outputs": [],
   "source": [
    "device = pt.device(\"cuda\" if pt.cuda.is_available() else \"cpu\")\n",
    "print(f\"Using device: {device}\")"
   ]
  },
  {
   "cell_type": "code",
   "execution_count": null,
   "id": "53872087-a612-469a-8507-81d1aa41c017",
   "metadata": {},
   "outputs": [],
   "source": [
    "pdb_files = glob('input_structures/*.pdb')\n",
    "model_path = 'model_307.pt'"
   ]
  },
  {
   "cell_type": "code",
   "execution_count": null,
   "id": "3a268e9a-b448-47b5-aa63-1c5101949eee",
   "metadata": {
    "scrolled": true
   },
   "outputs": [],
   "source": [
    "results = {}\n",
    "\n",
    "for each_pdb in tqdm(pdb_files):\n",
    "    chain_key = each_pdb.split(r\"/\")[-1].split('.')[0]\n",
    "    print (chain_key)\n",
    "    pdb_chains = split_nmr_pdb(each_pdb)\n",
    "    models = list(pdb_chains.values())[0] # Single chain PDB structures\n",
    "    pdb_file = make_pdb(models)\n",
    "    aa_map, seq, atom_type, atoms_xyz = read_pdb(pdb_file)\n",
    "    seq=''.join(seq)\n",
    "\n",
    "    # Get features\n",
    "    mean_xyz = mean_coordinates(atoms_xyz)\n",
    "    R, D= extract_topology(mean_xyz)\n",
    "    # Indices of nearest neighbors\n",
    "    knn = min(64, D.shape[0])\n",
    "    D_nn, nn_topk = pt.topk(pt.tensor(D), knn, dim=1, largest=False)\n",
    "    R_nn = pt.gather(pt.tensor(R), 1, nn_topk.unsqueeze(2).repeat(1, 1, R.shape[2])).to(pt.float32)\n",
    "    motion_v_nn, motion_s_nn, rmsf, de, CP_nn = extract_dynamic_features(atoms_xyz, nn_topk.numpy())\n",
    "    sasa_dic_unbound, labeled_seqs2 = get_sasa_unbound(each_pdb)\n",
    "    assert list(labeled_seqs2.values())[0]==seq\n",
    "    rsa = np.array(list(sasa_dic_unbound.values())[0])\n",
    "    rsa = fill_nan_with_neighbors(np.array(rsa))\n",
    "    rsa = np.array(rsa)[np.array(aa_map) - 1]\n",
    "    onehot_seq = pt.tensor(encode_sequence(atom_type, std_elements))\n",
    "    \n",
    "    rmsf, de, rsa = pt.tensor(rmsf).unsqueeze(1), pt.tensor(de).unsqueeze(1), pt.tensor(rsa).to(pt.float64).unsqueeze(1)\n",
    "    D_nn, nn_topk, R_nn, motion_v_nn, motion_s_nn, CP_nn = D_nn.to(pt.float32).unsqueeze(2), nn_topk.to(pt.int64), R_nn.to(pt.float32), pt.tensor(motion_v_nn).to(pt.float32), pt.tensor(motion_s_nn).to(pt.float32).unsqueeze(2), pt.tensor(CP_nn).to(pt.float32).unsqueeze(2)\n",
    "    \n",
    "    features = collate_batch_features([[onehot_seq, rmsf, de, rsa, nn_topk, D_nn, R_nn, motion_v_nn, motion_s_nn, CP_nn, pt.tensor(aa_map)]])\n",
    "    onehot_seq, rmsf, de, rsa, nn_topk, D_nn, R_nn, motion_v_nn, motion_s_nn, CP_nn, aa_map = features\n",
    "    \n",
    "    # Load and Apply\n",
    "    model = Model(config_model)\n",
    "    model.load_state_dict(pt.load(model_path, map_location=device, weights_only=True))\n",
    "    model = model.eval().to(device)\n",
    "    with pt.no_grad():\n",
    "        z,_,_ = model(onehot_seq.to(device), rmsf.to(device), de.to(device), rsa.to(device), nn_topk.to(device), D_nn.to(device), R_nn.to(device), motion_v_nn.to(device), motion_s_nn.to(device), CP_nn.to(device), aa_map.to(device))\n",
    "        results[each_pdb] = [pt.sigmoid(z).detach(), seq]"
   ]
  },
  {
   "cell_type": "code",
   "execution_count": null,
   "id": "b0d9d583-0f80-4b50-a5a2-93214235764d",
   "metadata": {},
   "outputs": [],
   "source": []
  }
 ],
 "metadata": {
  "kernelspec": {
   "display_name": "Python 3 (ipykernel)",
   "language": "python",
   "name": "python3"
  },
  "language_info": {
   "codemirror_mode": {
    "name": "ipython",
    "version": 3
   },
   "file_extension": ".py",
   "mimetype": "text/x-python",
   "name": "python",
   "nbconvert_exporter": "python",
   "pygments_lexer": "ipython3",
   "version": "3.10.13"
  }
 },
 "nbformat": 4,
 "nbformat_minor": 5
}
