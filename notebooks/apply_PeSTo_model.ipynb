{
 "cells": [
  {
   "cell_type": "code",
   "execution_count": 1,
   "id": "finite-respondent",
   "metadata": {},
   "outputs": [],
   "source": [
    "import os\n",
    "import sys\n",
    "import h5py\n",
    "import json\n",
    "import numpy as np\n",
    "import torch as pt\n",
    "import pandas as pd\n",
    "import matplotlib.pyplot as plt\n",
    "from tqdm import tqdm\n",
    "from glob import glob\n",
    "\n",
    "from src.dataset import StructuresDataset, collate_batch_features, select_by_sid, select_by_interface_types\n",
    "from src.data_encoding import encode_structure, encode_features, extract_topology, categ_to_resnames, resname_to_categ\n",
    "from src.structure import data_to_structure, encode_bfactor, concatenate_chains, split_by_chain\n",
    "from src.structure_io import save_pdb, read_pdb\n",
    "from src.scoring import bc_scoring, bc_score_names\n",
    "from processing.build_dataset import config_dataset, pack_dataset_items\n",
    "from src.data_encoding import extract_all_contacts\n",
    "from src.config import config_data\n",
    "from src.data_handler import load_interface_labels\n",
    "from src.scoring import bc_scoring"
   ]
  },
  {
   "cell_type": "code",
   "execution_count": 2,
   "id": "varying-essence",
   "metadata": {},
   "outputs": [],
   "source": [
    "# model parameters\n",
    "# R3\n",
    "#save_path = \"model/save/i_v3_0_2021-05-27_14-27\"  # 89\n",
    "#save_path = \"model/save/i_v3_1_2021-05-28_12-40\"  # 90\n",
    "# R4\n",
    "#save_path = \"model/save/i_v4_0_2021-09-07_11-20\"  # 89\n",
    "save_path = \"model/save/i_v4_1_2021-09-07_11-21\"  # 91\n",
    "\n",
    "# select saved model\n",
    "model_filepath = os.path.join(save_path, 'model_ckpt.pt')\n",
    "#model_filepath = os.path.join(save_path, 'model.pt')"
   ]
  },
  {
   "cell_type": "code",
   "execution_count": 3,
   "id": "educational-discipline",
   "metadata": {},
   "outputs": [],
   "source": [
    "# add module to path\n",
    "if save_path not in sys.path:\n",
    "    sys.path.insert(0, save_path)\n",
    "    \n",
    "# load functions\n",
    "from config import config_model, config_data\n",
    "from data_handler import Dataset\n",
    "from model import Model"
   ]
  },
  {
   "cell_type": "code",
   "execution_count": 7,
   "id": "settled-adult",
   "metadata": {},
   "outputs": [],
   "source": [
    "# define device\n",
    "device = pt.device(\"cpu\")\n",
    "\n",
    "# create model\n",
    "model = Model(config_model)\n",
    "\n",
    "# reload model\n",
    "model.load_state_dict(pt.load(model_filepath, map_location=pt.device(device)))\n",
    "\n",
    "# set model to inference\n",
    "model = model.eval().to(device)"
   ]
  },
  {
   "cell_type": "code",
   "execution_count": null,
   "id": "0b1e4fea-0e3e-4a6a-a096-597015b4591b",
   "metadata": {
    "scrolled": true
   },
   "outputs": [],
   "source": [
    "# data parameters\n",
    "data_path = \"examples/53\"\n",
    "# find pdb files and ignore already predicted oins\n",
    "pdb_filepaths = glob(os.path.join(data_path, \"*.pdb\"), recursive=True)\n",
    "pdb_filepaths = [fp for fp in pdb_filepaths if \"_i\" not in fp]\n",
    "\n",
    "# create dataset loader with preprocessing\n",
    "dataset = StructuresDataset(pdb_filepaths, with_preprocessing=True)\n",
    "testing_transient=np.genfromtxt(\"/home/omokhtar/Desktop/final_atom/data/benchmarks/MaSIF/testing_transient.txt\", dtype=np.dtype('U'))\n",
    "# debug print\n",
    "print(len(dataset))\n",
    "\n",
    "results= {}\n",
    "mids = np.array(config_dataset['molecule_ids'].astype(np.string_)).astype(np.dtype('U'))\n",
    "t0 = pt.from_numpy(np.where(np.isin(mids, config_data['l_types']))[0])\n",
    "t1_l = [pt.from_numpy(np.where(np.isin(mids, r_types))[0]) for r_types in config_data['r_types']]\n",
    "\n",
    "# run model on all subunits\n",
    "with pt.no_grad():\n",
    "    for subunits, filepath in tqdm(dataset):\n",
    "        contacts = extract_all_contacts(subunits, config_dataset['r_thr'], device=device)\n",
    "        _, contacts_data = pack_dataset_items(subunits, contacts,config_dataset['molecule_ids'],config_dataset['max_num_nn'], device=device)\n",
    "       \n",
    "        # concatenate all chains together\n",
    "        structure = concatenate_chains(subunits)\n",
    "        for subunit in subunits:\n",
    "            id_chain = '_'.join([filepath.split('/')[-1][:-4],subunit.split(':')[0]]) \n",
    "            if subunit.count(\":\") >1: continue\n",
    "            if id_chain not in testing_transient: continue\n",
    "                \n",
    "            contact0 = contacts_data[subunit]\n",
    "            # encode structure and features\n",
    "            X, M = encode_structure(subunits[subunit])\n",
    "            #q = pt.cat(encode_features(structure), dim=1)\n",
    "            q = encode_features(subunits[subunit])[0]\n",
    "\n",
    "            # extract topology\n",
    "            ids_topk, _, _, _, _ = extract_topology(X, 64)\n",
    "\n",
    "            # pack data and setup sink (IMPORTANT)\n",
    "            X, ids_topk, q, M = collate_batch_features([[X, ids_topk, q, M]])\n",
    "            y = pt.zeros((M.shape[1], len(t1_l)), dtype=pt.bool)\n",
    "            for ckey in contact0:\n",
    "                y |= load_interface_labels(contact0[ckey], t0, t1_l)\n",
    "            \n",
    "            # run model\n",
    "            z = model(X.to(device), ids_topk.to(device), q.to(device), M.float().to(device))\n",
    "            \n",
    "            y = y[:,0].float().view(-1,1)\n",
    "            p = pt.sigmoid(z[:,0]).float().view(-1,1)\n",
    "            results[id_chain]=bc_scoring(y.to('cuda'),p.to('cuda'))\n",
    "''' \n",
    "            # for all predictions\n",
    "            for i in range(z.shape[1]):\n",
    "                # prediction\n",
    "                p = pt.sigmoid(z[:,i])\n",
    "\n",
    "                # encode result\n",
    "                #structure = encode_bfactor(structure, p.cpu().numpy())\n",
    "\n",
    "                # save results\n",
    "                #output_filepath = filepath[:-4]+'_i{}.pdb'.format(i)\n",
    "                #save_pdb(split_by_chain(structure), output_filepath)\n",
    "'''"
   ]
  },
  {
   "cell_type": "code",
   "execution_count": 8,
   "id": "560ef5b0-6a5a-427b-9d40-d128e82445cb",
   "metadata": {},
   "outputs": [
    {
     "name": "stdout",
     "output_type": "stream",
     "text": [
      "roc auc for 2f4m_A is 0.9820747375488281\n",
      "roc auc for 1wdw_H is 0.8655789494514465\n",
      "roc auc for 2ayo_A is 0.9088626503944397\n",
      "roc auc for 1jtd_B is 0.988070547580719\n",
      "roc auc for 4lvn_A is 0.8595605492591858\n",
      "roc auc for 4zrj_A is 0.729529619216919\n",
      "roc auc for 3vv2_A is 0.8555220365524292\n",
      "roc auc for 1f6m_A is 0.932812511920929\n",
      "roc auc for 4hdo_A is 0.8906896710395813\n",
      "roc auc for 3sja_I is 0.7162952423095703\n",
      "roc auc for 1w1w_B is 0.8545309901237488\n",
      "roc auc for 2i3t_A is 0.81409752368927\n",
      "roc auc for 4fzv_A is 0.8393750190734863\n",
      "roc auc for 1xg2_A is 0.5910776257514954\n",
      "roc auc for 3qml_D is 0.8383738994598389\n",
      "roc auc for 4yc7_B is 0.9247331619262695\n",
      "roc auc for 4x33_B is 0.972842812538147\n",
      "roc auc for 3bh6_B is 0.9766187071800232\n",
      "roc auc for 3zwl_B is 0.7412217259407043\n",
      "roc auc for 1xqs_A is 0.9342710971832275\n",
      "roc auc for 3wn7_A is 0.9805610179901123\n",
      "roc auc for 1ewy_A is 0.7579848170280457\n",
      "roc auc for 2v9t_B is 0.9479190707206726\n",
      "roc auc for 3h6g_B is 0.9959572553634644\n",
      "roc auc for 4dvg_B is 0.979884684085846\n",
      "roc auc for 2wus_A is 0.5601250529289246\n",
      "roc auc for 2v3b_A is 0.6564126014709473\n",
      "roc auc for 2pms_A is 0.8207474946975708\n",
      "roc auc for 4v0o_F is 0.8890202045440674\n",
      "roc auc for 5tih_A is 0.6212064623832703\n",
      "roc auc for 4bkx_B is 0.806316077709198\n",
      "roc auc for 4c9b_B is 0.7470372915267944\n",
      "roc auc for 4y61_B is 0.8291925191879272\n",
      "roc auc for 2xwt_C is 0.9061019420623779\n",
      "roc auc for 5j57_A is 0.5505714416503906\n",
      "roc auc for 1nca_N is 0.7071413397789001\n",
      "roc auc for 4xl5_C is 0.9486343264579773\n",
      "roc auc for 4yeb_A is 0.6108465790748596\n",
      "roc auc for 4m0w_A is 0.985808789730072\n",
      "roc auc for 4zgy_A is 0.9604193568229675\n",
      "roc auc for 3nvn_A is 0.7725352048873901\n",
      "roc auc for 3rt0_A is 0.7680143713951111\n",
      "roc auc for 3fhc_A is 0.3800143301486969\n",
      "roc auc for 2qxv_A is 0.4750633239746094\n",
      "roc auc for 3mca_B is 0.9219721555709839\n",
      "roc auc for 3vyr_B is 0.9784629940986633\n",
      "roc auc for 3o5t_A is 0.8507142663002014\n",
      "roc auc for 2y5b_A is 0.8680188059806824\n",
      "roc auc for 4etp_A is 0.9948326945304871\n",
      "roc auc for 4etp_B is 0.9927366971969604\n",
      "roc auc for 1zhh_A is 0.6987179517745972\n",
      "roc auc for 1i2m_B is 0.828906238079071\n",
      "roc auc for 2c0l_A is 0.9057464003562927\n"
     ]
    }
   ],
   "source": [
    "for id_chain in results:\n",
    "    print (f'roc auc for {id_chain} is {results[id_chain][-2][0]}')"
   ]
  },
  {
   "cell_type": "code",
   "execution_count": 10,
   "id": "44e4ca9b-0aa6-4c34-8528-6f659495c18a",
   "metadata": {},
   "outputs": [
    {
     "name": "stdout",
     "output_type": "stream",
     "text": [
      "53\n"
     ]
    },
    {
     "name": "stderr",
     "output_type": "stream",
     "text": [
      "/tmp/ipykernel_19882/1102551247.py:2: UserWarning: To copy construct from a tensor, it is recommended to use sourceTensor.clone().detach() or sourceTensor.clone().detach().requires_grad_(True), rather than torch.tensor(sourceTensor).\n",
      "  auc = pt.stack([pt.tensor(v) for v in results.values()])[:, -2]\n"
     ]
    },
    {
     "data": {
      "text/plain": [
       "tensor(0.8555, device='cuda:0')"
      ]
     },
     "execution_count": 10,
     "metadata": {},
     "output_type": "execute_result"
    }
   ],
   "source": [
    "auc = pt.stack([pt.tensor(v) for v in results.values()])[:, -2]\n",
    "pt.median(auc)"
   ]
  }
 ],
 "metadata": {
  "kernelspec": {
   "display_name": "Python 3 (ipykernel)",
   "language": "python",
   "name": "python3"
  },
  "language_info": {
   "codemirror_mode": {
    "name": "ipython",
    "version": 3
   },
   "file_extension": ".py",
   "mimetype": "text/x-python",
   "name": "python",
   "nbconvert_exporter": "python",
   "pygments_lexer": "ipython3",
   "version": "3.10.13"
  }
 },
 "nbformat": 4,
 "nbformat_minor": 5
}
