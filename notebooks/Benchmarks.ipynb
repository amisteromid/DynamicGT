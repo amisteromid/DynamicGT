{
 "cells": [
  {
   "cell_type": "code",
   "execution_count": 2,
   "id": "a562cf8d-2b77-4277-8b5f-a16d2e962595",
   "metadata": {},
   "outputs": [
    {
     "name": "stderr",
     "output_type": "stream",
     "text": [
      "/home/omokhtar/anaconda3/envs/dl/lib/python3.10/site-packages/Bio/SubsMat/__init__.py:126: BiopythonDeprecationWarning: Bio.SubsMat has been deprecated, and we intend to remove it in a future release of Biopython. As an alternative, please consider using Bio.Align.substitution_matrices as a replacement, and contact the Biopython developers if you still need the Bio.SubsMat module.\n",
      "  warnings.warn(\n"
     ]
    }
   ],
   "source": [
    "from Bio import pairwise2\n",
    "from Bio.pairwise2 import format_alignment\n",
    "from Bio import SeqIO, PDB\n",
    "from Bio.PDB.PDBList import PDBList\n",
    "from Bio.SeqUtils import seq1\n",
    "from Bio.Align import PairwiseAligner\n",
    "from Bio import SeqIO, pairwise2\n",
    "from Bio.PDB import PDBParser\n",
    "from Bio.SubsMat.MatrixInfo import blosum62\n",
    "import os\n",
    "from Bio.PDB import *\n",
    "from Bio.PDB.Polypeptide import three_to_one as seq1\n",
    "from Bio.SubsMat import MatrixInfo\n",
    "import json\n",
    "import seaborn as sns\n",
    "import pandas as pd\n",
    "import matplotlib.pyplot as plt\n",
    "import numpy as np\n",
    "from scipy import stats\n",
    "\n",
    "import numpy as np\n",
    "import h5py\n",
    "import torch as pt\n",
    "from utils.model import Model\n",
    "from utils.data_handler import collate_batch_features\n",
    "from utils.scoring import bc_scoring, bc_score_names, nanmean\n",
    "from utils.configs import config_model, config_data, config_runtime\n",
    "\n",
    "from for_visualization import convert_tensors_to_lists, predict, p_to_bfactor, action_to_bfactor"
   ]
  },
  {
   "cell_type": "code",
   "execution_count": 2,
   "id": "b73a1ce3-f6a9-4c8a-8d60-9d5a40b96b21",
   "metadata": {},
   "outputs": [
    {
     "name": "stdout",
     "output_type": "stream",
     "text": [
      "Using device: cuda\n"
     ]
    }
   ],
   "source": [
    "device = pt.device(\"cuda\" if pt.cuda.is_available() else \"cpu\")\n",
    "print(f\"Using device: {device}\")"
   ]
  },
  {
   "cell_type": "code",
   "execution_count": 3,
   "id": "1e53b556-f44a-48ad-a20f-8bdeb4e48213",
   "metadata": {},
   "outputs": [],
   "source": [
    "results = {}"
   ]
  },
  {
   "cell_type": "code",
   "execution_count": 3,
   "id": "59afbe63-7764-4763-af8e-ddc72ec02427",
   "metadata": {},
   "outputs": [
    {
     "name": "stdout",
     "output_type": "stream",
     "text": [
      "Accuracy 0.67\n",
      "Precision 0.56\n",
      "npv 0.97\n",
      "Recall 1.0\n",
      "Specificity 0.12\n",
      "MCC 0.26\n",
      "ROC-AUC 0.77\n",
      "STD 0.1\n",
      "PR-AUC 0.77\n"
     ]
    }
   ],
   "source": [
    "config_data = {\n",
    "    'dataset_path': \"/home/omokhtar/Desktop/PPI/data/db_benchmarks_with_dists.h5\",\n",
    "    'test_ids_path': '/home/omokhtar/Desktop/PPI/data/splitting_af/ids_fuzdb.txt',\n",
    "    'model_path' : '/home/omokhtar/Desktop/PPI/model/model_307.pt'}\n",
    "benchmark_ag_path = '/home/omokhtar/Desktop/final_atom/data/benchmarks/FuzDB/predictions_af_307.json'\n",
    "if not os.path.exists(benchmark_ag_path):\n",
    "    with open(benchmark_ag_path, 'w') as json_file:\n",
    "        dic = predict(config_data, device)\n",
    "        json.dump(dic, json_file, indent=4)\n",
    "else:\n",
    "    with open(benchmark_ag_path, 'r') as json_file:\n",
    "        dic = json.load(json_file)\n",
    "\n",
    "for i,metric in enumerate(['Accuracy','Precision','npv','Recall','Specificity','MCC','ROC-AUC','STD','PR-AUC']):\n",
    "    print (metric, np.nanmedian([np.round(v[2][i],2) for v in dic.values()]))"
   ]
  },
  {
   "cell_type": "code",
   "execution_count": 4,
   "id": "6b0d15dc-e999-4011-8479-8f4aee3317b5",
   "metadata": {},
   "outputs": [
    {
     "name": "stdout",
     "output_type": "stream",
     "text": [
      "Accuracy 0.87\n",
      "Precision 0.375\n",
      "npv 0.94\n",
      "Recall 0.42\n",
      "Specificity 0.92\n",
      "MCC 0.315\n",
      "ROC-AUC 0.85\n",
      "STD 0.16\n",
      "PR-AUC 0.41\n"
     ]
    }
   ],
   "source": [
    "config_data = {\n",
    "    'dataset_path': \"/home/omokhtar/Desktop/PPI/data/db_benchmarks_with_dists.h5\",\n",
    "    'test_ids_path': '/home/omokhtar/Desktop/final_atom/data/benchmarks/MaSIF/testing_transient.txt',\n",
    "    'model_path' : '/home/omokhtar/Desktop/PPI/model/model_307.pt'}\n",
    "benchmark_ag_path = '/home/omokhtar/Desktop/final_atom/data/benchmarks/MaSIF/predictions_af_307.json'\n",
    "if not os.path.exists(benchmark_ag_path):\n",
    "    with open(benchmark_ag_path, 'w') as json_file:\n",
    "        dic = predict(config_data, device)\n",
    "        json.dump(dic, json_file, indent=4)\n",
    "else:\n",
    "    with open(benchmark_ag_path, 'r') as json_file:\n",
    "        dic = json.load(json_file)\n",
    "\n",
    "for i,metric in enumerate(['Accuracy','Precision','npv','Recall','Specificity','MCC','ROC-AUC','STD','PR-AUC']):\n",
    "    print (metric, np.nanmedian([np.round(v[2][i],2) for v in dic.values()]))"
   ]
  },
  {
   "cell_type": "code",
   "execution_count": 5,
   "id": "a1663c49-482c-4af8-a7b6-222e6ddda592",
   "metadata": {},
   "outputs": [
    {
     "name": "stdout",
     "output_type": "stream",
     "text": [
      "Accuracy 0.71\n",
      "Precision 0.65\n",
      "npv 1.0\n",
      "Recall 1.0\n",
      "Specificity 0.2\n",
      "MCC 0.44\n",
      "ROC-AUC 0.79\n",
      "STD 0.11\n",
      "PR-AUC 0.84\n"
     ]
    }
   ],
   "source": [
    "config_data = {\n",
    "    'dataset_path': \"/home/omokhtar/Desktop/PPI/data/db_benchmarks_with_dists.h5\",\n",
    "    'test_ids_path': '/home/omokhtar/Desktop/PPI/data/splitting_af/ids_idrbind.txt',\n",
    "    'model_path' : '/home/omokhtar/Desktop/PPI/model/model_307.pt'}\n",
    "benchmark_ag_path = '/home/omokhtar/Desktop/final_atom/data/benchmarks/IDP/predictions_af_307.json'\n",
    "if not os.path.exists(benchmark_ag_path):\n",
    "    with open(benchmark_ag_path, 'w') as json_file:\n",
    "        dic = predict(config_data, device)\n",
    "        json.dump(dic, json_file, indent=4)\n",
    "else:\n",
    "    with open(benchmark_ag_path, 'r') as json_file:\n",
    "        dic = json.load(json_file)\n",
    "\n",
    "for i,metric in enumerate(['Accuracy','Precision','npv','Recall','Specificity','MCC','ROC-AUC','STD','PR-AUC']):\n",
    "    print (metric, np.nanmedian([np.round(v[2][i],2) for v in dic.values()]))"
   ]
  },
  {
   "cell_type": "code",
   "execution_count": 6,
   "id": "152a3798-6180-4163-ae46-6a3ca41e599a",
   "metadata": {},
   "outputs": [
    {
     "name": "stdout",
     "output_type": "stream",
     "text": [
      "Accuracy 0.815\n",
      "Precision 0.385\n",
      "npv 0.93\n",
      "Recall 0.585\n",
      "Specificity 0.85\n",
      "MCC 0.315\n",
      "ROC-AUC 0.805\n",
      "STD 0.15\n",
      "PR-AUC 0.475\n"
     ]
    }
   ],
   "source": [
    "config_data = {\n",
    "    'dataset_path': \"/home/omokhtar/Desktop/PPI/data/db_benchmarks_with_dists.h5\",\n",
    "    'test_ids_path': '/home/omokhtar/Desktop/PPI/data/splitting_af/ids60.txt',\n",
    "    'model_path' : '/home/omokhtar/Desktop/PPI/model/model_307.pt'}\n",
    "benchmark_ag_path = '/home/omokhtar/Desktop/final_atom/data/benchmarks/equippis/predictions_af_307.json'\n",
    "if not os.path.exists(benchmark_ag_path):\n",
    "    with open(benchmark_ag_path, 'w') as json_file:\n",
    "        dic = predict(config_data, device)\n",
    "        json.dump(dic, json_file, indent=4)\n",
    "else:\n",
    "    with open(benchmark_ag_path, 'r') as json_file:\n",
    "        dic = json.load(json_file)\n",
    "\n",
    "for i,metric in enumerate(['Accuracy','Precision','npv','Recall','Specificity','MCC','ROC-AUC','STD','PR-AUC']):\n",
    "    print (metric, np.nanmedian([np.round(v[2][i],2) for v in dic.values()]))"
   ]
  },
  {
   "cell_type": "code",
   "execution_count": 15,
   "id": "7b8b42f9-8692-408c-86bb-8129b620f7cd",
   "metadata": {},
   "outputs": [
    {
     "name": "stdout",
     "output_type": "stream",
     "text": [
      "Accuracy 0.7934249471458773\n",
      "Precision 0.4643220338983051\n",
      "npv 0.8871398305084747\n",
      "Recall 0.5404016913319238\n",
      "Specificity 0.8196828752642706\n",
      "MCC 0.34762208067940553\n",
      "ROC-AUC 0.8077589852008457\n",
      "STD 0.15315010570824525\n",
      "PR-AUC 0.531014799154334\n"
     ]
    }
   ],
   "source": [
    "config_data = {\n",
    "    'dataset_path': \"/home/omokhtar/Desktop/PPI/data/db_benchmarks_with_dists.h5\",\n",
    "    'model_path' : '/home/omokhtar/Desktop/PPI/model/model_307.pt'}\n",
    "benchmark_ag_path = '/home/omokhtar/Desktop/final_atom/data/benchmarks/zdock/predictions_af_307.json'\n",
    "if not os.path.exists(benchmark_ag_path):\n",
    "    with open(benchmark_ag_path, 'w') as json_file:\n",
    "        dic = predict(config_data, device)\n",
    "        json.dump(dic, json_file, indent=4)\n",
    "else:\n",
    "    with open(benchmark_ag_path, 'r') as json_file:\n",
    "        dic = json.load(json_file)\n",
    "\n",
    "for i,metric in enumerate(['Accuracy','Precision','npv','Recall','Specificity','MCC','ROC-AUC','STD','PR-AUC']):\n",
    "    print (metric, np.nanmean([np.round(v[2][i],2) for v in dic.values()]))"
   ]
  },
  {
   "cell_type": "code",
   "execution_count": 16,
   "id": "d94a05a3-dbe1-402f-b247-edeff1a76c36",
   "metadata": {},
   "outputs": [
    {
     "name": "stdout",
     "output_type": "stream",
     "text": [
      "Accuracy 0.740056603773585\n",
      "Precision 0.6314947965941343\n",
      "npv 0.8842735042735043\n",
      "Recall 0.8668207547169811\n",
      "Specificity 0.6219263456090652\n",
      "MCC 0.4999142857142857\n",
      "ROC-AUC 0.8615958451369216\n",
      "STD 0.16381132075471697\n",
      "PR-AUC 0.8051746931067045\n"
     ]
    }
   ],
   "source": [
    "config_data = {\n",
    "    'dataset_path': \"/home/omokhtar/Desktop/PPI/data/db_benchmarks_v2_with_dists2.h5\",\n",
    "    'test_ids_path': '/home/omokhtar/Desktop/PPI/data/splitting_af/ids_MFIB1.txt',\n",
    "    'model_path' : '/home/omokhtar/Desktop/PPI/model/model_307.pt'}\n",
    "benchmark_ag_path = '/home/omokhtar/Desktop/final_atom/data/benchmarks/MFIB/predictions_af_307.json'\n",
    "if not os.path.exists(benchmark_ag_path):\n",
    "    with open(benchmark_ag_path, 'w') as json_file:\n",
    "        dic = predict(config_data, device)\n",
    "        json.dump(dic, json_file, indent=4)\n",
    "else:\n",
    "    with open(benchmark_ag_path, 'r') as json_file:\n",
    "        dic = json.load(json_file)\n",
    "\n",
    "for i,metric in enumerate(['Accuracy','Precision','npv','Recall','Specificity','MCC','ROC-AUC','STD','PR-AUC']):\n",
    "    print (metric, np.nanmean([np.round(v[2][i],2) for v in dic.values()])) "
   ]
  },
  {
   "cell_type": "code",
   "execution_count": 7,
   "id": "17f7fc99-1a61-4e25-8511-e61bff5edffd",
   "metadata": {},
   "outputs": [
    {
     "name": "stdout",
     "output_type": "stream",
     "text": [
      "Accuracy 0.78\n",
      "Precision 0.6\n",
      "npv 0.94\n",
      "Recall 0.92\n",
      "Specificity 0.74\n",
      "MCC 0.47\n",
      "ROC-AUC 0.85\n",
      "STD 0.16\n",
      "PR-AUC 0.82\n"
     ]
    }
   ],
   "source": [
    "config_data = {\n",
    "    'dataset_path': \"/home/omokhtar/Desktop/PPI/data/db_benchmarks_v2_with_dists2.h5\",\n",
    "    'test_ids_path': '/home/omokhtar/Desktop/PPI/data/splitting_af/ids_bret42.txt',\n",
    "    'model_path' : '/home/omokhtar/Desktop/PPI/model/model_307.pt'}\n",
    "benchmark_ag_path = '/home/omokhtar/Desktop/final_atom/data/benchmarks/Bret_42/predictions_af_307.json'\n",
    "if not os.path.exists(benchmark_ag_path):\n",
    "    with open(benchmark_ag_path, 'w') as json_file:\n",
    "        dic = predict(config_data, device)\n",
    "        json.dump(dic, json_file, indent=4)\n",
    "else:\n",
    "    with open(benchmark_ag_path, 'r') as json_file:\n",
    "        dic = json.load(json_file)\n",
    "dic = {i:ii for i,ii in dic.items() if i not in ['5NCL_B', '5OJR_A', '5OJR_E', '5OW5_A', '6G04_A', '6G04_B', '6ICV_C', '6IDX_A', '6JLH_B', '6JLH_D', '6JMT_A', '6JWJ_C', '6OCG_A', '6OCG_B', '6TWN_A', '6TWN_D', '6XFK_A', '6XFK_B', '7NW1_AAA', '7NW1_BBB', '7QDW_B']}\n",
    "\n",
    "for i,metric in enumerate(['Accuracy','Precision','npv','Recall','Specificity','MCC','ROC-AUC','STD','PR-AUC']):\n",
    "    print (metric, np.nanmedian([np.round(v[2][i],2) for v in dic.values()]))"
   ]
  },
  {
   "cell_type": "markdown",
   "id": "7b562dbd-c524-48f1-8036-b336c37ca220",
   "metadata": {},
   "source": [
    "## Merged (MD+AF) - v1"
   ]
  },
  {
   "cell_type": "code",
   "execution_count": 11,
   "id": "d07c0fa4-3187-4a42-8583-ffd028f8d3ef",
   "metadata": {},
   "outputs": [
    {
     "name": "stdout",
     "output_type": "stream",
     "text": [
      "Accuracy 0.805\n",
      "Precision 0.346\n",
      "npv 0.912\n",
      "Recall 0.409\n",
      "tnr 0.858\n",
      "MCC 0.252\n",
      "ROC-AUC 0.787\n",
      "STD 0.154\n",
      "PR-AUC 0.362\n"
     ]
    }
   ],
   "source": [
    "config_data = {\n",
    "    'dataset_path': \"/home/omokhtar/Desktop/PPI/data/db_benchmarks_with_dists.h5\",\n",
    "    'test_ids_path': '/home/omokhtar/Desktop/PPI/data/splitting_af/ids39.txt',\n",
    "    'model_path' : '/home/omokhtar/Desktop/PPI/model/model_307.pt'}\n",
    "benchmark_ag_path = '/home/omokhtar/Desktop/final_atom/data/benchmarks/final_ag/predictions_af_307.json'\n",
    "if not os.path.exists(benchmark_ag_path):\n",
    "    with open(benchmark_ag_path, 'w') as json_file:\n",
    "        dic = predict(config_data, device)\n",
    "        json.dump(dic, json_file, indent=4)\n",
    "else:\n",
    "    with open(benchmark_ag_path, 'r') as json_file:\n",
    "        dic = json.load(json_file)\n",
    "\n",
    "for i,metric in enumerate(['Accuracy','Precision','npv','Recall','tnr','MCC','ROC-AUC','STD','PR-AUC']):\n",
    "    print (metric, np.nanmedian([np.round(v[2][i],3) for v in dic.values()]))\n",
    "results['Antigen_1'] = dic "
   ]
  },
  {
   "cell_type": "code",
   "execution_count": 4,
   "id": "01b9743b-9ad1-46ee-bd1b-2c1c850be0b7",
   "metadata": {
    "scrolled": true
   },
   "outputs": [
    {
     "name": "stdout",
     "output_type": "stream",
     "text": [
      "Accuracy 0.67\n",
      "Precision 0.56\n",
      "npv 0.97\n",
      "Recall 1.0\n",
      "Specificity 0.12\n",
      "MCC 0.26\n",
      "ROC-AUC 0.77\n",
      "STD 0.1\n",
      "PR-AUC 0.77\n"
     ]
    }
   ],
   "source": [
    "config_data = {\n",
    "    'dataset_path': \"/home/omokhtar/Desktop/PPI/data/db_benchmarks_with_dists.h5\",\n",
    "    'test_ids_path': '/home/omokhtar/Desktop/PPI/data/splitting_af/ids_fuzdb.txt',\n",
    "    'model_path' : '/home/omokhtar/Desktop/PPI/model/model_307.pt'}\n",
    "benchmark_ag_path = '/home/omokhtar/Desktop/final_atom/data/benchmarks/FuzDB/predictions_af_307.json'\n",
    "if not os.path.exists(benchmark_ag_path):\n",
    "    with open(benchmark_ag_path, 'w') as json_file:\n",
    "        dic = predict(config_data, device)\n",
    "        json.dump(dic, json_file, indent=4)\n",
    "else:\n",
    "    with open(benchmark_ag_path, 'r') as json_file:\n",
    "        dic = json.load(json_file)\n",
    "\n",
    "for i,metric in enumerate(['Accuracy','Precision','npv','Recall','Specificity','MCC','ROC-AUC','STD','PR-AUC']):\n",
    "    print (metric, np.nanmedian([np.round(v[2][i],2) for v in dic.values()]))\n",
    "results['FuzDB_1'] = dic"
   ]
  },
  {
   "cell_type": "code",
   "execution_count": 6,
   "id": "137aed45-82ee-4a39-be51-7f8126a2ecd1",
   "metadata": {},
   "outputs": [
    {
     "name": "stdout",
     "output_type": "stream",
     "text": [
      "Accuracy 0.866\n",
      "Precision 0.3755\n",
      "npv 0.937\n",
      "Recall 0.417\n",
      "Specificity 0.918\n",
      "MCC 0.3135\n",
      "ROC-AUC 0.851\n",
      "STD 0.158\n",
      "PR-AUC 0.409\n"
     ]
    }
   ],
   "source": [
    "config_data = {\n",
    "    'dataset_path': \"/home/omokhtar/Desktop/PPI/data/db_benchmarks_with_dists.h5\",\n",
    "    'test_ids_path': '/home/omokhtar/Desktop/final_atom/data/benchmarks/MaSIF/testing_transient.txt',\n",
    "    'model_path' : '/home/omokhtar/Desktop/PPI/model/model_307.pt'}\n",
    "benchmark_ag_path = '/home/omokhtar/Desktop/final_atom/data/benchmarks/MaSIF/predictions_af_307.json'\n",
    "if not os.path.exists(benchmark_ag_path):\n",
    "    with open(benchmark_ag_path, 'w') as json_file:\n",
    "        dic = predict(config_data, device)\n",
    "        json.dump(dic, json_file, indent=4)\n",
    "else:\n",
    "    with open(benchmark_ag_path, 'r') as json_file:\n",
    "        dic = json.load(json_file)\n",
    "\n",
    "for i,metric in enumerate(['Accuracy','Precision','npv','Recall','Specificity','MCC','ROC-AUC','STD','PR-AUC']):\n",
    "    print (metric, np.nanmedian([np.round(v[2][i],3) for v in dic.values()]))\n",
    "results['Test53_1'] = dic\n",
    "\n",
    "#p_to_bfactor(dic, device, '/home/omokhtar/Desktop/final_atom/data/benchmarks/MaSIF/predictions')"
   ]
  },
  {
   "cell_type": "code",
   "execution_count": 4,
   "id": "0f114ec2-dfe0-4c03-af38-ab93911de639",
   "metadata": {},
   "outputs": [
    {
     "name": "stderr",
     "output_type": "stream",
     "text": [
      "100%|███████████████████████████████████████████| 57/57 [00:38<00:00,  1.49it/s]"
     ]
    },
    {
     "name": "stdout",
     "output_type": "stream",
     "text": [
      "Accuracy 0.7083333134651184\n",
      "Precision 0.6521739363670349\n",
      "npv 1.0\n",
      "Recall 1.0\n",
      "Specificity 0.20000000298023224\n",
      "MCC 0.43852901458740234\n",
      "ROC-AUC 0.7905073761940002\n",
      "STD 0.11228195577859879\n",
      "PR-AUC 0.838655412197113\n"
     ]
    },
    {
     "name": "stderr",
     "output_type": "stream",
     "text": [
      "\n"
     ]
    }
   ],
   "source": [
    "config_data = {\n",
    "    'dataset_path': \"/home/omokhtar/Desktop/PPI/data/db_benchmarks_with_dists.h5\",\n",
    "    'test_ids_path': '/home/omokhtar/Desktop/PPI/data/splitting_af/ids_idrbind.txt',\n",
    "    'model_path' : '/home/omokhtar/Desktop/PPI/model/model_307.pt'}\n",
    "benchmark_ag_path = '/home/omokhtar/Desktop/final_atom/data/benchmarks/IDP/predictions_af_307.json'\n",
    "if not os.path.exists(benchmark_ag_path):\n",
    "    with open(benchmark_ag_path, 'w') as json_file:\n",
    "        dic = predict(config_data, device)\n",
    "        json.dump(dic, json_file, indent=4)\n",
    "else:\n",
    "    with open(benchmark_ag_path, 'r') as json_file:\n",
    "        dic = json.load(json_file)\n",
    "\n",
    "for i,metric in enumerate(['Accuracy','Precision','npv','Recall','Specificity','MCC','ROC-AUC','STD','PR-AUC']):\n",
    "    print (metric, np.nanmedian([v[2][i] for v in dic.values()]))\n",
    "results['IDRBind_1'] = dic\n",
    "\n",
    "#p_to_bfactor(dic, device, '/home/omokhtar/Desktop/final_atom/data/benchmarks/IDP/predictions')"
   ]
  },
  {
   "cell_type": "code",
   "execution_count": 7,
   "id": "79727dec-c071-440d-aeb0-c07af378f02c",
   "metadata": {},
   "outputs": [
    {
     "name": "stdout",
     "output_type": "stream",
     "text": [
      "Accuracy 0.8185\n",
      "Precision 0.3825\n",
      "npv 0.932\n",
      "Recall 0.584\n",
      "Specificity 0.8505\n",
      "MCC 0.315\n",
      "ROC-AUC 0.8055000000000001\n",
      "STD 0.1485\n",
      "PR-AUC 0.479\n"
     ]
    }
   ],
   "source": [
    "config_data = {\n",
    "    'dataset_path': \"/home/omokhtar/Desktop/PPI/data/db_benchmarks_with_dists.h5\",\n",
    "    'test_ids_path': '/home/omokhtar/Desktop/PPI/data/splitting_af/ids60.txt',\n",
    "    'model_path' : '/home/omokhtar/Desktop/PPI/model/model_307.pt'}\n",
    "benchmark_ag_path = '/home/omokhtar/Desktop/final_atom/data/benchmarks/equippis/predictions_af_307.json'\n",
    "if not os.path.exists(benchmark_ag_path):\n",
    "    with open(benchmark_ag_path, 'w') as json_file:\n",
    "        dic = predict(config_data, device)\n",
    "        json.dump(dic, json_file, indent=4)\n",
    "else:\n",
    "    with open(benchmark_ag_path, 'r') as json_file:\n",
    "        dic = json.load(json_file)\n",
    "\n",
    "for i,metric in enumerate(['Accuracy','Precision','npv','Recall','Specificity','MCC','ROC-AUC','STD','PR-AUC']):\n",
    "    print (metric, np.nanmedian([np.round(v[2][i],3) for v in dic.values()]))\n",
    "results['Test60_1'] = dic\n",
    "\n",
    "#p_to_bfactor(dic, device, '/home/omokhtar/Desktop/final_atom/data/benchmarks/equippis/predictions')"
   ]
  },
  {
   "cell_type": "code",
   "execution_count": 33,
   "id": "0dabab16-6cad-4f57-a9cb-b74724a3bccb",
   "metadata": {},
   "outputs": [
    {
     "data": {
      "text/plain": [
       "dict_keys(['1B6C_B', '2OT3_A', '2C0L_A', '1E96_B', '4G6T_A', '2V9T_A', '2DVW_A', '4JE3_B', '3VZ9_D', '2Y9W_A', '3ZHE_B', '1JMO_A', '4HLU_A', '1R8S_E', '3CF4_A', '3MCB_A', '3UVJ_A', '7CEI_B', '2FHZ_B', '1H32_B', '1GLA_G', '1QA9_B', '1T6B_Y', '2APO_B', '4NQW_B', '3FMO_A', '2B42_A', '3OCD_B', '4CDG_A', '3O3M_B', '2C0L_B', '2QKL_A', '2V4Z_B', '4E6N_B', '3TU3_A', '4JOI_A', '1GL4_A', '2D74_A', '4EMJ_B', '3F6Q_A', '4KBM_B', '3FJU_A', '1GGP_A', '3Q87_A', '1TA3_A', '1EWY_C', '3CBJ_A', '2EHB_A', '4KT3_A', '2YC2_A', '4H3K_B', '2G2U_A', '1WPX_A', '4M70_H', '3S97_C', '1V74_A', '1QA9_A', '3CQC_A', '1AY7_A', '3SHG_A'])"
      ]
     },
     "execution_count": 33,
     "metadata": {},
     "output_type": "execute_result"
    }
   ],
   "source": [
    "dic.keys()"
   ]
  },
  {
   "cell_type": "code",
   "execution_count": 17,
   "id": "74d11383-31d1-4625-b820-af15b80526b3",
   "metadata": {},
   "outputs": [
    {
     "name": "stderr",
     "output_type": "stream",
     "text": [
      "100%|███████████████████████████████████████████| 28/28 [01:27<00:00,  3.14s/it]"
     ]
    },
    {
     "name": "stdout",
     "output_type": "stream",
     "text": [
      "Accuracy 0.775\n",
      "Precision 0.435\n",
      "npv 0.925\n",
      "Recall 0.66\n",
      "tnr 0.85\n",
      "MCC 0.36\n",
      "ROC-AUC 0.85\n",
      "STD 0.15\n",
      "PR-AUC 0.585\n"
     ]
    },
    {
     "name": "stderr",
     "output_type": "stream",
     "text": [
      "\n"
     ]
    }
   ],
   "source": [
    "config_data = {\n",
    "    'dataset_path': \"/home/omokhtar/Desktop/PPI/data/db_benchmarks_with_dists.h5\",\n",
    "    'test_ids_path': '/home/omokhtar/Desktop/PPI/data/splitting_af/ids_zdock_difficult.txt',\n",
    "    'model_path' : '/home/omokhtar/Desktop/PPI/model/model_307.pt'}\n",
    "benchmark_ag_path = '/home/omokhtar/Desktop/final_atom/data/benchmarks/zdock/predictions_difficult_307.json'\n",
    "if not os.path.exists(benchmark_ag_path):\n",
    "    with open(benchmark_ag_path, 'w') as json_file:\n",
    "        dic = predict(config_data, device)\n",
    "        json.dump(dic, json_file, indent=4)\n",
    "else:\n",
    "    with open(benchmark_ag_path, 'r') as json_file:\n",
    "        dic = json.load(json_file)\n",
    "\n",
    "for i,metric in enumerate(['Accuracy','Precision','npv','Recall','tnr','MCC','ROC-AUC','STD','PR-AUC']):\n",
    "    print (metric, np.nanmedian([np.round(v[2][i],2) for v in dic.values()]))\n",
    "results['Zdock_difficult_1'] = dic"
   ]
  },
  {
   "cell_type": "code",
   "execution_count": 18,
   "id": "9176b2da-ed10-43ee-89c1-21e00653b949",
   "metadata": {},
   "outputs": [
    {
     "name": "stderr",
     "output_type": "stream",
     "text": [
      "100%|███████████████████████████████████████████| 53/53 [03:47<00:00,  4.29s/it]\n"
     ]
    },
    {
     "name": "stdout",
     "output_type": "stream",
     "text": [
      "Accuracy 0.81\n",
      "Precision 0.42\n",
      "npv 0.92\n",
      "Recall 0.56\n",
      "tnr 0.89\n",
      "MCC 0.26\n",
      "ROC-AUC 0.81\n",
      "STD 0.15\n",
      "PR-AUC 0.43\n"
     ]
    }
   ],
   "source": [
    "config_data = {\n",
    "    'dataset_path': \"/home/omokhtar/Desktop/PPI/data/db_benchmarks_with_dists.h5\",\n",
    "    'test_ids_path': '/home/omokhtar/Desktop/PPI/data/splitting_af/ids_zdock_medium.txt',\n",
    "    'model_path' : '/home/omokhtar/Desktop/PPI/model/model_307.pt'}\n",
    "benchmark_ag_path = '/home/omokhtar/Desktop/final_atom/data/benchmarks/zdock/predictions_medium_307.json'\n",
    "if not os.path.exists(benchmark_ag_path):\n",
    "    with open(benchmark_ag_path, 'w') as json_file:\n",
    "        dic = predict(config_data, device)\n",
    "        json.dump(dic, json_file, indent=4)\n",
    "else:\n",
    "    with open(benchmark_ag_path, 'r') as json_file:\n",
    "        dic = json.load(json_file)\n",
    "\n",
    "for i,metric in enumerate(['Accuracy','Precision','npv','Recall','tnr','MCC','ROC-AUC','STD','PR-AUC']):\n",
    "    print (metric, np.nanmedian([np.round(v[2][i],2) for v in dic.values()]))\n",
    "results['Zdock_medium_1'] = dic"
   ]
  },
  {
   "cell_type": "code",
   "execution_count": 19,
   "id": "9933684a-b03e-41f8-932e-f35dddf6a9b5",
   "metadata": {},
   "outputs": [
    {
     "name": "stderr",
     "output_type": "stream",
     "text": [
      "100%|█████████████████████████████████████████| 144/144 [07:44<00:00,  3.23s/it]\n"
     ]
    },
    {
     "name": "stdout",
     "output_type": "stream",
     "text": [
      "Accuracy 0.78\n",
      "Precision 0.33\n",
      "npv 0.92\n",
      "Recall 0.55\n",
      "tnr 0.83\n",
      "MCC 0.28500000000000003\n",
      "ROC-AUC 0.8\n",
      "STD 0.14\n",
      "PR-AUC 0.4\n"
     ]
    }
   ],
   "source": [
    "config_data = {\n",
    "    'dataset_path': \"/home/omokhtar/Desktop/PPI/data/db_benchmarks_with_dists.h5\",\n",
    "    'test_ids_path': '/home/omokhtar/Desktop/PPI/data/splitting_af/ids_zdock_rigid.txt',\n",
    "    'model_path' : '/home/omokhtar/Desktop/PPI/model/model_307.pt'}\n",
    "benchmark_ag_path = '/home/omokhtar/Desktop/final_atom/data/benchmarks/zdock/predictions_rigid_307.json'\n",
    "if not os.path.exists(benchmark_ag_path):\n",
    "    with open(benchmark_ag_path, 'w') as json_file:\n",
    "        dic = predict(config_data, device)\n",
    "        json.dump(dic, json_file, indent=4)\n",
    "else:\n",
    "    with open(benchmark_ag_path, 'r') as json_file:\n",
    "        dic = json.load(json_file)\n",
    "\n",
    "for i,metric in enumerate(['Accuracy','Precision','npv','Recall','tnr','MCC','ROC-AUC','STD','PR-AUC']):\n",
    "    print (metric, np.nanmedian([np.round(v[2][i],2) for v in dic.values()]))\n",
    "results['Zdock_rigid_1'] = dic"
   ]
  },
  {
   "cell_type": "markdown",
   "id": "1df2bc50-4a91-4ada-a158-6da4aca98a42",
   "metadata": {},
   "source": [
    "## No Dynamic"
   ]
  },
  {
   "cell_type": "code",
   "execution_count": 1,
   "id": "92f243fa-3526-490e-8f51-12fd55b5bf49",
   "metadata": {},
   "outputs": [
    {
     "name": "stderr",
     "output_type": "stream",
     "text": [
      "/home/omokhtar/anaconda3/envs/dl/lib/python3.10/site-packages/Bio/SubsMat/__init__.py:126: BiopythonDeprecationWarning: Bio.SubsMat has been deprecated, and we intend to remove it in a future release of Biopython. As an alternative, please consider using Bio.Align.substitution_matrices as a replacement, and contact the Biopython developers if you still need the Bio.SubsMat module.\n",
      "  warnings.warn(\n"
     ]
    },
    {
     "name": "stdout",
     "output_type": "stream",
     "text": [
      "Using device: cuda\n"
     ]
    }
   ],
   "source": [
    "from Bio import pairwise2\n",
    "from Bio.pairwise2 import format_alignment\n",
    "from Bio import SeqIO, PDB\n",
    "from Bio.PDB.PDBList import PDBList\n",
    "from Bio.SeqUtils import seq1\n",
    "from Bio.Align import PairwiseAligner\n",
    "from Bio import SeqIO, pairwise2\n",
    "from Bio.PDB import PDBParser\n",
    "from Bio.SubsMat.MatrixInfo import blosum62\n",
    "import os\n",
    "from Bio.PDB import *\n",
    "from Bio.PDB.Polypeptide import three_to_one as seq1\n",
    "from Bio.SubsMat import MatrixInfo\n",
    "import json\n",
    "import seaborn as sns\n",
    "import pandas as pd\n",
    "import matplotlib.pyplot as plt\n",
    "import numpy as np\n",
    "from scipy import stats\n",
    "\n",
    "import numpy as np\n",
    "import h5py\n",
    "import torch as pt\n",
    "from utils2.model import Model\n",
    "from utils2.data_handler import collate_batch_features\n",
    "from utils2.scoring import bc_scoring, bc_score_names, nanmean\n",
    "from utils2.configs import config_model, config_data, config_runtime\n",
    "\n",
    "from for_visualization2 import convert_tensors_to_lists, predict, p_to_bfactor, action_to_bfactor\n",
    "\n",
    "device = pt.device(\"cuda\" if pt.cuda.is_available() else \"cpu\")\n",
    "print(f\"Using device: {device}\")"
   ]
  },
  {
   "cell_type": "markdown",
   "id": "2118f0aa-cb4a-405e-aeaa-1504231c14f7",
   "metadata": {},
   "source": [
    "## Merged(MD+AF) nody - v1"
   ]
  },
  {
   "cell_type": "code",
   "execution_count": 3,
   "id": "0c5a0ab1-db1c-449c-b512-e47e1d75aba2",
   "metadata": {},
   "outputs": [
    {
     "name": "stderr",
     "output_type": "stream",
     "text": [
      "100%|███████████████████████████████████████████| 60/60 [02:39<00:00,  2.66s/it]"
     ]
    },
    {
     "name": "stdout",
     "output_type": "stream",
     "text": [
      "Accuracy 0.8065\n",
      "Precision 0.378\n",
      "npv 0.9115\n",
      "Recall 0.5505\n",
      "tnr 0.8485\n",
      "MCC 0.2825\n",
      "ROC-AUC 0.7805\n",
      "STD 0.1355\n",
      "PR-AUC 0.4425\n"
     ]
    },
    {
     "name": "stderr",
     "output_type": "stream",
     "text": [
      "\n"
     ]
    }
   ],
   "source": [
    "config_data = {\n",
    "    'dataset_path': \"/home/omokhtar/Desktop/PPI/data/db_benchmarks_with_dists.h5\",\n",
    "    'test_ids_path': '/home/omokhtar/Desktop/PPI/data/splitting_af/ids60.txt',\n",
    "    'model_path' : '/home/omokhtar/Desktop/PPI/model/model_nodynamic_308.pt'}\n",
    "benchmark_ag_path = '/home/omokhtar/Desktop/final_atom/data/benchmarks/equippis/predictions_af_308.json'\n",
    "if not os.path.exists(benchmark_ag_path):\n",
    "    with open(benchmark_ag_path, 'w') as json_file:\n",
    "        dic = predict(config_data, device)\n",
    "        json.dump(dic, json_file, indent=4)\n",
    "else:\n",
    "    with open(benchmark_ag_path, 'r') as json_file:\n",
    "        dic = json.load(json_file)\n",
    "\n",
    "for i,metric in enumerate(['Accuracy','Precision','npv','Recall','tnr','MCC','ROC-AUC','STD','PR-AUC']):\n",
    "    print (metric, np.nanmedian([np.round(v[2][i],3) for v in dic.values()]))\n",
    "results['Test60_nody'] = dic"
   ]
  },
  {
   "cell_type": "code",
   "execution_count": 3,
   "id": "c7f0b147-7239-4202-8bd6-d0f2ca23580f",
   "metadata": {},
   "outputs": [
    {
     "name": "stderr",
     "output_type": "stream",
     "text": [
      "100%|█████████████████████████████████████████| 110/110 [01:17<00:00,  1.42it/s]"
     ]
    },
    {
     "name": "stdout",
     "output_type": "stream",
     "text": [
      "Accuracy 0.65\n",
      "Precision 0.55\n",
      "npv 0.94\n",
      "Recall 1.0\n",
      "tnr 0.0\n",
      "MCC 0.245\n",
      "ROC-AUC 0.76\n",
      "STD 0.07\n",
      "PR-AUC 0.75\n"
     ]
    },
    {
     "name": "stderr",
     "output_type": "stream",
     "text": [
      "\n"
     ]
    },
    {
     "ename": "NameError",
     "evalue": "name 'results' is not defined",
     "output_type": "error",
     "traceback": [
      "\u001b[0;31m---------------------------------------------------------------------------\u001b[0m",
      "\u001b[0;31mNameError\u001b[0m                                 Traceback (most recent call last)",
      "Cell \u001b[0;32mIn[3], line 16\u001b[0m\n\u001b[1;32m     14\u001b[0m \u001b[38;5;28;01mfor\u001b[39;00m i,metric \u001b[38;5;129;01min\u001b[39;00m \u001b[38;5;28menumerate\u001b[39m([\u001b[38;5;124m'\u001b[39m\u001b[38;5;124mAccuracy\u001b[39m\u001b[38;5;124m'\u001b[39m,\u001b[38;5;124m'\u001b[39m\u001b[38;5;124mPrecision\u001b[39m\u001b[38;5;124m'\u001b[39m,\u001b[38;5;124m'\u001b[39m\u001b[38;5;124mnpv\u001b[39m\u001b[38;5;124m'\u001b[39m,\u001b[38;5;124m'\u001b[39m\u001b[38;5;124mRecall\u001b[39m\u001b[38;5;124m'\u001b[39m,\u001b[38;5;124m'\u001b[39m\u001b[38;5;124mtnr\u001b[39m\u001b[38;5;124m'\u001b[39m,\u001b[38;5;124m'\u001b[39m\u001b[38;5;124mMCC\u001b[39m\u001b[38;5;124m'\u001b[39m,\u001b[38;5;124m'\u001b[39m\u001b[38;5;124mROC-AUC\u001b[39m\u001b[38;5;124m'\u001b[39m,\u001b[38;5;124m'\u001b[39m\u001b[38;5;124mSTD\u001b[39m\u001b[38;5;124m'\u001b[39m,\u001b[38;5;124m'\u001b[39m\u001b[38;5;124mPR-AUC\u001b[39m\u001b[38;5;124m'\u001b[39m]):\n\u001b[1;32m     15\u001b[0m     \u001b[38;5;28mprint\u001b[39m (metric, np\u001b[38;5;241m.\u001b[39mnanmedian([np\u001b[38;5;241m.\u001b[39mround(v[\u001b[38;5;241m2\u001b[39m][i],\u001b[38;5;241m2\u001b[39m) \u001b[38;5;28;01mfor\u001b[39;00m v \u001b[38;5;129;01min\u001b[39;00m dic\u001b[38;5;241m.\u001b[39mvalues()]))\n\u001b[0;32m---> 16\u001b[0m \u001b[43mresults\u001b[49m[\u001b[38;5;124m'\u001b[39m\u001b[38;5;124mFuzDB_nody\u001b[39m\u001b[38;5;124m'\u001b[39m] \u001b[38;5;241m=\u001b[39m dic\n",
      "\u001b[0;31mNameError\u001b[0m: name 'results' is not defined"
     ]
    }
   ],
   "source": [
    "config_data = {\n",
    "    'dataset_path': \"/home/omokhtar/Desktop/PPI/data/db_benchmarks_with_dists.h5\",\n",
    "    'test_ids_path': '/home/omokhtar/Desktop/PPI/data/splitting_af/ids_fuzdb.txt',\n",
    "    'model_path' : '/home/omokhtar/Desktop/PPI/model/model_nodynamic_308.pt'}\n",
    "benchmark_ag_path = '/home/omokhtar/Desktop/final_atom/data/benchmarks/FuzDB/predictions_af_308.json'\n",
    "if not os.path.exists(benchmark_ag_path):\n",
    "    with open(benchmark_ag_path, 'w') as json_file:\n",
    "        dic = predict(config_data, device)\n",
    "        json.dump(dic, json_file, indent=4)\n",
    "else:\n",
    "    with open(benchmark_ag_path, 'r') as json_file:\n",
    "        dic = json.load(json_file)\n",
    "\n",
    "for i,metric in enumerate(['Accuracy','Precision','npv','Recall','tnr','MCC','ROC-AUC','STD','PR-AUC']):\n",
    "    print (metric, np.nanmedian([np.round(v[2][i],2) for v in dic.values()]))\n",
    "results['FuzDB_nody'] = dic"
   ]
  },
  {
   "cell_type": "code",
   "execution_count": 4,
   "id": "3ac20951-972d-484c-b059-9b539df56dea",
   "metadata": {},
   "outputs": [
    {
     "name": "stderr",
     "output_type": "stream",
     "text": [
      "100%|███████████████████████████████████████████| 53/53 [03:44<00:00,  4.24s/it]"
     ]
    },
    {
     "name": "stdout",
     "output_type": "stream",
     "text": [
      "Accuracy 0.854\n",
      "Precision 0.308\n",
      "npv 0.935\n",
      "Recall 0.429\n",
      "tnr 0.89\n",
      "MCC 0.3105\n",
      "ROC-AUC 0.825\n",
      "STD 0.155\n",
      "PR-AUC 0.335\n"
     ]
    },
    {
     "name": "stderr",
     "output_type": "stream",
     "text": [
      "\n"
     ]
    }
   ],
   "source": [
    "config_data = {\n",
    "    'dataset_path': \"/home/omokhtar/Desktop/PPI/data/db_benchmarks_with_dists.h5\",\n",
    "    'test_ids_path': '/home/omokhtar/Desktop/final_atom/data/benchmarks/MaSIF/testing_transient.txt',\n",
    "    'model_path' : '/home/omokhtar/Desktop/PPI/model/model_nodynamic_308.pt'}\n",
    "benchmark_ag_path = '/home/omokhtar/Desktop/final_atom/data/benchmarks/MaSIF/predictions_af_308.json'\n",
    "if not os.path.exists(benchmark_ag_path):\n",
    "    with open(benchmark_ag_path, 'w') as json_file:\n",
    "        dic = predict(config_data, device)\n",
    "        json.dump(dic, json_file, indent=4)\n",
    "else:\n",
    "    with open(benchmark_ag_path, 'r') as json_file:\n",
    "        dic = json.load(json_file)\n",
    "\n",
    "for i,metric in enumerate(['Accuracy','Precision','npv','Recall','tnr','MCC','ROC-AUC','STD','PR-AUC']):\n",
    "    print (metric, np.nanmedian([np.round(v[2][i],3) for v in dic.values()]))\n",
    "results['Test53_nody'] = dic"
   ]
  },
  {
   "cell_type": "code",
   "execution_count": 5,
   "id": "672791ce-8438-4590-b2b9-0207bb1aa2db",
   "metadata": {},
   "outputs": [
    {
     "name": "stderr",
     "output_type": "stream",
     "text": [
      "100%|███████████████████████████████████████████| 33/33 [02:00<00:00,  3.65s/it]"
     ]
    },
    {
     "name": "stdout",
     "output_type": "stream",
     "text": [
      "Accuracy 0.784\n",
      "Precision 0.308\n",
      "npv 0.918\n",
      "Recall 0.455\n",
      "tnr 0.842\n",
      "MCC 0.267\n",
      "ROC-AUC 0.767\n",
      "STD 0.143\n",
      "PR-AUC 0.361\n"
     ]
    },
    {
     "name": "stderr",
     "output_type": "stream",
     "text": [
      "\n"
     ]
    }
   ],
   "source": [
    "config_data = {\n",
    "    'dataset_path': \"/home/omokhtar/Desktop/PPI/data/db_benchmarks_with_dists.h5\",\n",
    "    'test_ids_path': '/home/omokhtar/Desktop/PPI/data/splitting_af/ids39.txt',\n",
    "    'model_path' : '/home/omokhtar/Desktop/PPI/model/model_nodynamic_308.pt'}\n",
    "benchmark_ag_path = '/home/omokhtar/Desktop/final_atom/data/benchmarks/final_ag/predictions_af_308.json'\n",
    "if not os.path.exists(benchmark_ag_path):\n",
    "    with open(benchmark_ag_path, 'w') as json_file:\n",
    "        dic = predict(config_data, device)\n",
    "        json.dump(dic, json_file, indent=4)\n",
    "else:\n",
    "    with open(benchmark_ag_path, 'r') as json_file:\n",
    "        dic = json.load(json_file)\n",
    "\n",
    "for i,metric in enumerate(['Accuracy','Precision','npv','Recall','tnr','MCC','ROC-AUC','STD','PR-AUC']):\n",
    "    print (metric, np.nanmedian([np.round(v[2][i],3) for v in dic.values()]))\n",
    "results['Antigen_nody'] = dic "
   ]
  },
  {
   "cell_type": "code",
   "execution_count": 10,
   "id": "ea196ecb-1b9c-4c29-be28-972602e8876d",
   "metadata": {},
   "outputs": [
    {
     "name": "stderr",
     "output_type": "stream",
     "text": [
      "100%|███████████████████████████████████████████| 57/57 [02:22<00:00,  2.51s/it]"
     ]
    },
    {
     "name": "stdout",
     "output_type": "stream",
     "text": [
      "Accuracy 0.753\n",
      "Precision 0.333\n",
      "npv 0.912\n",
      "Recall 0.565\n",
      "tnr 0.772\n",
      "MCC 0.267\n",
      "ROC-AUC 0.751\n",
      "STD 0.136\n",
      "PR-AUC 0.385\n"
     ]
    },
    {
     "name": "stderr",
     "output_type": "stream",
     "text": [
      "\n"
     ]
    }
   ],
   "source": [
    "config_data = {\n",
    "    'dataset_path': \"/home/omokhtar/Desktop/PPI/data/db_benchmarks_with_dists.h5\",\n",
    "    'test_ids_path': '/home/omokhtar/Desktop/PPI/data/splitting_af/ids_idrbind.txt',\n",
    "    'model_path' : '/home/omokhtar/Desktop/PPI/model/model_nodynamic_308.pt'}\n",
    "benchmark_ag_path = '/home/omokhtar/Desktop/final_atom/data/benchmarks/IDP/predictions_af_308.json'\n",
    "if not os.path.exists(benchmark_ag_path):\n",
    "    with open(benchmark_ag_path, 'w') as json_file:\n",
    "        dic = predict(config_data, device)\n",
    "        json.dump(dic, json_file, indent=4)\n",
    "else:\n",
    "    with open(benchmark_ag_path, 'r') as json_file:\n",
    "        dic = json.load(json_file)\n",
    "\n",
    "for i,metric in enumerate(['Accuracy','Precision','npv','Recall','tnr','MCC','ROC-AUC','STD','PR-AUC']):\n",
    "    print (metric, np.nanmedian([np.round(v[2][i],3) for v in dic.values()]))\n",
    "results['IDRBind_nody'] = dic "
   ]
  },
  {
   "cell_type": "code",
   "execution_count": 7,
   "id": "dde7323a-b50c-4f1e-aa8a-05aea6ab95cc",
   "metadata": {},
   "outputs": [
    {
     "name": "stderr",
     "output_type": "stream",
     "text": [
      "100%|███████████████████████████████████████████| 28/28 [00:52<00:00,  1.86s/it]"
     ]
    },
    {
     "name": "stdout",
     "output_type": "stream",
     "text": [
      "Accuracy 0.8095000000000001\n",
      "Precision 0.5\n",
      "npv 0.918\n",
      "Recall 0.49550000000000005\n",
      "tnr 0.8895\n",
      "MCC 0.40900000000000003\n",
      "ROC-AUC 0.8135\n",
      "STD 0.131\n",
      "PR-AUC 0.5365\n"
     ]
    },
    {
     "name": "stderr",
     "output_type": "stream",
     "text": [
      "\n"
     ]
    }
   ],
   "source": [
    "config_data = {\n",
    "    'dataset_path': \"/home/omokhtar/Desktop/PPI/data/db_benchmarks_with_dists.h5\",\n",
    "    'test_ids_path': '/home/omokhtar/Desktop/PPI/data/splitting_af/ids_zdock_difficult.txt',\n",
    "    'model_path' : '/home/omokhtar/Desktop/PPI/model/model_nodynamic_308.pt'}\n",
    "benchmark_ag_path = '/home/omokhtar/Desktop/final_atom/data/benchmarks/zdock/predictions_difficult_308.json'\n",
    "if not os.path.exists(benchmark_ag_path):\n",
    "    with open(benchmark_ag_path, 'w') as json_file:\n",
    "        dic = predict(config_data, device)\n",
    "        json.dump(dic, json_file, indent=4)\n",
    "else:\n",
    "    with open(benchmark_ag_path, 'r') as json_file:\n",
    "        dic = json.load(json_file)\n",
    "\n",
    "for i,metric in enumerate(['Accuracy','Precision','npv','Recall','tnr','MCC','ROC-AUC','STD','PR-AUC']):\n",
    "    print (metric, np.nanmedian([np.round(v[2][i],3) for v in dic.values()]))\n",
    "results['Zdock_difficult_nody'] = dic "
   ]
  },
  {
   "cell_type": "code",
   "execution_count": 8,
   "id": "445773a8-574e-436a-9cd5-41af1abc8aeb",
   "metadata": {},
   "outputs": [
    {
     "name": "stderr",
     "output_type": "stream",
     "text": [
      "100%|███████████████████████████████████████████| 53/53 [02:16<00:00,  2.57s/it]"
     ]
    },
    {
     "name": "stdout",
     "output_type": "stream",
     "text": [
      "Accuracy 0.806\n",
      "Precision 0.391\n",
      "npv 0.913\n",
      "Recall 0.4\n",
      "tnr 0.885\n",
      "MCC 0.279\n",
      "ROC-AUC 0.8\n",
      "STD 0.135\n",
      "PR-AUC 0.413\n"
     ]
    },
    {
     "name": "stderr",
     "output_type": "stream",
     "text": [
      "\n"
     ]
    }
   ],
   "source": [
    "config_data = {\n",
    "    'dataset_path': \"/home/omokhtar/Desktop/PPI/data/db_benchmarks_with_dists.h5\",\n",
    "    'test_ids_path': '/home/omokhtar/Desktop/PPI/data/splitting_af/ids_zdock_medium.txt',\n",
    "    'model_path' : '/home/omokhtar/Desktop/PPI/model/model_nodynamic_308.pt'}\n",
    "benchmark_ag_path = '/home/omokhtar/Desktop/final_atom/data/benchmarks/zdock/predictions_medium_308.json'\n",
    "if not os.path.exists(benchmark_ag_path):\n",
    "    with open(benchmark_ag_path, 'w') as json_file:\n",
    "        dic = predict(config_data, device)\n",
    "        json.dump(dic, json_file, indent=4)\n",
    "else:\n",
    "    with open(benchmark_ag_path, 'r') as json_file:\n",
    "        dic = json.load(json_file)\n",
    "\n",
    "for i,metric in enumerate(['Accuracy','Precision','npv','Recall','tnr','MCC','ROC-AUC','STD','PR-AUC']):\n",
    "    print (metric, np.nanmedian([np.round(v[2][i],3) for v in dic.values()]))\n",
    "results['Zdock_medium_nody'] = dic"
   ]
  },
  {
   "cell_type": "code",
   "execution_count": 11,
   "id": "d57e065b-a631-4c46-85b4-1906bec15656",
   "metadata": {},
   "outputs": [
    {
     "name": "stderr",
     "output_type": "stream",
     "text": [
      "100%|█████████████████████████████████████████| 144/144 [04:31<00:00,  1.88s/it]"
     ]
    },
    {
     "name": "stdout",
     "output_type": "stream",
     "text": [
      "Accuracy 0.79\n",
      "Precision 0.269\n",
      "npv 0.908\n",
      "Recall 0.458\n",
      "tnr 0.849\n",
      "MCC 0.192\n",
      "ROC-AUC 0.754\n",
      "STD 0.131\n",
      "PR-AUC 0.322\n"
     ]
    },
    {
     "name": "stderr",
     "output_type": "stream",
     "text": [
      "\n"
     ]
    }
   ],
   "source": [
    "config_data = {\n",
    "    'dataset_path': \"/home/omokhtar/Desktop/PPI/data/db_benchmarks_with_dists.h5\",\n",
    "    'test_ids_path': '/home/omokhtar/Desktop/PPI/data/splitting_af/ids_zdock_rigid.txt',\n",
    "    'model_path' : '/home/omokhtar/Desktop/PPI/model/model_nodynamic_308.pt'}\n",
    "benchmark_ag_path = '/home/omokhtar/Desktop/final_atom/data/benchmarks/zdock/predictions_rigid_308.json'\n",
    "if not os.path.exists(benchmark_ag_path):\n",
    "    with open(benchmark_ag_path, 'w') as json_file:\n",
    "        dic = predict(config_data, device)\n",
    "        json.dump(dic, json_file, indent=4)\n",
    "else:\n",
    "    with open(benchmark_ag_path, 'r') as json_file:\n",
    "        dic = json.load(json_file)\n",
    "\n",
    "for i,metric in enumerate(['Accuracy','Precision','npv','Recall','tnr','MCC','ROC-AUC','STD','PR-AUC']):\n",
    "    print (metric, np.nanmedian([np.round(v[2][i][0],3) for v in dic.values()]))\n",
    "results['Zdock_rigid_nody'] = dic"
   ]
  }
 ],
 "metadata": {
  "kernelspec": {
   "display_name": "Python 3 (ipykernel)",
   "language": "python",
   "name": "python3"
  },
  "language_info": {
   "codemirror_mode": {
    "name": "ipython",
    "version": 3
   },
   "file_extension": ".py",
   "mimetype": "text/x-python",
   "name": "python",
   "nbconvert_exporter": "python",
   "pygments_lexer": "ipython3",
   "version": "3.10.13"
  }
 },
 "nbformat": 4,
 "nbformat_minor": 5
}
